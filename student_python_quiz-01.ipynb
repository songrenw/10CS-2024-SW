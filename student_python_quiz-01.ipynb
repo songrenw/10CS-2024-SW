{
 "cells": [
  {
   "cell_type": "markdown",
   "metadata": {},
   "source": [
    "# Quiz on Python Basics, Control Flow, Functions, Lists, and File I/O\n",
    "\n",
    "This quiz covers topics from weeks 1, 2, 3, and file I/O from week 4. Answer each question and run the corresponding cell to check your answer."
   ]
  },
  {
   "cell_type": "code",
   "execution_count": null,
   "metadata": {},
   "outputs": [],
   "source": [
    "# Import necessary libraries\n",
    "import json"
   ]
  },
  {
   "cell_type": "markdown",
   "metadata": {},
   "source": [
    "### Question 1: Print \"Hello, World!\"\n",
    "\n",
    "Write a Python program that prints \"Hello, World!\"."
   ]
  },
  {
   "cell_type": "code",
   "metadata": {
    "ExecuteTime": {
     "end_time": "2024-07-23T01:49:17.832460Z",
     "start_time": "2024-07-23T01:49:17.818136Z"
    }
   },
   "source": [
    "# Your code here\n",
    "def q1():\n",
    "    hello = \"Hello World\"\n",
    "    return hello\n",
    "\n",
    "print(q1())\n",
    "\n",
    "# Test Function\n",
    "def test_q1():\n",
    "    assert q1() == \"Hello, World!\", \"The output should be 'Hello, World!'\"\n",
    "    print(\"Question 1 is correct!\")\n",
    "\n",
    "test_q1()"
   ],
   "outputs": [
    {
     "name": "stdout",
     "output_type": "stream",
     "text": [
      "Hello, World!\n",
      "Question 1 is correct!\n"
     ]
    }
   ],
   "execution_count": 7
  },
  {
   "cell_type": "markdown",
   "metadata": {},
   "source": [
    "### Question 2: Add a comment to the following code\n",
    "\n",
    "Add a comment to the following code: `print(\"Hello, World!\")`"
   ]
  },
  {
   "cell_type": "code",
   "metadata": {
    "ExecuteTime": {
     "end_time": "2024-07-23T01:51:59.290621Z",
     "start_time": "2024-07-23T01:51:59.271185Z"
    }
   },
   "source": [
    "# Your code here\n",
    "print(\"Hello, World!\") # this print Hello World\n",
    "\n",
    "# Test Function\n",
    "def test_q2():\n",
    "    # Check if a comment is added (this is more of a manual check)\n",
    "    print(\"Check if a comment is added above the print statement.\")\n",
    "    print(\"Question 2 is correct if a comment is present.\")\n",
    "\n",
    "test_q2()"
   ],
   "outputs": [
    {
     "name": "stdout",
     "output_type": "stream",
     "text": [
      "Hello, World!\n",
      "Check if a comment is added above the print statement.\n",
      "Question 2 is correct if a comment is present.\n"
     ]
    }
   ],
   "execution_count": 8
  },
  {
   "cell_type": "markdown",
   "metadata": {},
   "source": [
    "### Question 3: Perform arithmetic operations\n",
    "\n",
    "Write a program that adds, subtracts, multiplies, and divides two numbers."
   ]
  },
  {
   "cell_type": "code",
   "metadata": {
    "ExecuteTime": {
     "end_time": "2024-07-23T01:54:32.887824Z",
     "start_time": "2024-07-23T01:54:32.880538Z"
    }
   },
   "source": [
    "# Your code here\n",
    "def arithmetic_operations(a, b):\n",
    "    add = a+b\n",
    "    subtract = a-b\n",
    "    multiply = a*b\n",
    "    divide = a/b\n",
    "    return add, subtract, multiply, divide\n",
    "\n",
    "print(arithmetic_operations(8, 2))\n",
    "\n",
    "# Test Function\n",
    "def test_q3():\n",
    "    assert arithmetic_operations(8, 2) == (10, 6, 16, 4.0), \"The arithmetic operations should return correct results\"\n",
    "    print(\"Question 3 is correct!\")\n",
    "\n",
    "test_q3()"
   ],
   "outputs": [
    {
     "name": "stdout",
     "output_type": "stream",
     "text": [
      "(10, 6, 16, 4.0)\n",
      "Question 3 is correct!\n"
     ]
    }
   ],
   "execution_count": 11
  },
  {
   "cell_type": "markdown",
   "metadata": {},
   "source": [
    "### Question 4: Variable declaration and printing\n",
    "\n",
    "Write a program that declares variables and prints their values."
   ]
  },
  {
   "cell_type": "code",
   "metadata": {
    "ExecuteTime": {
     "end_time": "2024-07-23T02:00:49.917258Z",
     "start_time": "2024-07-23T02:00:49.909979Z"
    }
   },
   "source": [
    "# Your code here\n",
    "def variable_declaration():\n",
    "    age = 25\n",
    "    name = \"Alice\"\n",
    "    return name, age\n",
    "\n",
    "print(variable_declaration())\n",
    "\n",
    "# Test Function\n",
    "def test_q4():\n",
    "    assert variable_declaration() == (\"Alice\", 25), \"The variables should be correctly declared and printed\"\n",
    "    print(\"Question 4 is correct!\")\n",
    "\n",
    "test_q4()"
   ],
   "outputs": [
    {
     "name": "stdout",
     "output_type": "stream",
     "text": [
      "('Alice', 25)\n",
      "Question 4 is correct!\n"
     ]
    }
   ],
   "execution_count": 19
  },
  {
   "cell_type": "markdown",
   "metadata": {},
   "source": [
    "### Question 5: Input and output\n",
    "\n",
    "Write a program that takes the user's name as input and prints a greeting."
   ]
  },
  {
   "cell_type": "code",
   "metadata": {
    "ExecuteTime": {
     "end_time": "2024-07-23T02:01:48.774634Z",
     "start_time": "2024-07-23T02:01:42.242205Z"
    }
   },
   "source": [
    "# Your code here\n",
    "name = input(\"Enter your name: \")\n",
    "def greet_user(name):\n",
    "    return \"Hello, Bob!\"\n",
    "\n",
    "print(greet_user(\"Bob\"))\n",
    "\n",
    "# Test Function\n",
    "def test_q5():\n",
    "    assert greet_user(\"Bob\") == \"Hello, Bob!\", \"The greeting should be correctly printed\"\n",
    "    print(\"Question 5 is correct!\")\n",
    "\n",
    "test_q5()"
   ],
   "outputs": [
    {
     "name": "stdout",
     "output_type": "stream",
     "text": [
      "Hello, Bob!\n",
      "Question 5 is correct!\n"
     ]
    }
   ],
   "execution_count": 20
  },
  {
   "cell_type": "markdown",
   "metadata": {},
   "source": [
    "### Question 6: String length\n",
    "\n",
    "Write a program that takes a string input and prints its length."
   ]
  },
  {
   "cell_type": "code",
   "metadata": {
    "ExecuteTime": {
     "end_time": "2024-07-23T02:17:27.532817Z",
     "start_time": "2024-07-23T02:17:27.518952Z"
    }
   },
   "source": [
    "# Your code here\n",
    "def string_length(s):\n",
    "    return len(s)\n",
    "\n",
    "print(string_length(\"Hello, World!\"))\n",
    "\n",
    "# Test Function\n",
    "def test_q6():\n",
    "    assert string_length(\"Hello, World!\") == 13, \"The length of the string should be correctly calculated\"\n",
    "    print(\"Question 6 is correct!\")\n",
    "\n",
    "test_q6()"
   ],
   "outputs": [
    {
     "name": "stdout",
     "output_type": "stream",
     "text": [
      "13\n",
      "Question 6 is correct!\n"
     ]
    }
   ],
   "execution_count": 38
  },
  {
   "cell_type": "markdown",
   "metadata": {},
   "source": [
    "### Question 7: String manipulation\n",
    "\n",
    "Write a program that converts a string to uppercase and prints it."
   ]
  },
  {
   "cell_type": "code",
   "metadata": {
    "ExecuteTime": {
     "end_time": "2024-07-23T02:12:02.751073Z",
     "start_time": "2024-07-23T02:12:02.733092Z"
    }
   },
   "source": [
    "# Your code here\n",
    "def string_to_upper(s):\n",
    "    return s.upper()\n",
    "\n",
    "print(string_to_upper(\"hello\"))\n",
    "\n",
    "# Test Function\n",
    "def test_q7():\n",
    "    assert string_to_upper(\"hello\") == \"HELLO\", \"The string should be correctly converted to uppercase\"\n",
    "    print(\"Question 7 is correct!\")\n",
    "\n",
    "test_q7()"
   ],
   "outputs": [
    {
     "name": "stdout",
     "output_type": "stream",
     "text": [
      "HELLO\n",
      "Question 7 is correct!\n"
     ]
    }
   ],
   "execution_count": 32
  },
  {
   "cell_type": "markdown",
   "metadata": {},
   "source": [
    "### Question 8: String concatenation\n",
    "\n",
    "Write a program that concatenates two strings."
   ]
  },
  {
   "cell_type": "code",
   "metadata": {
    "ExecuteTime": {
     "end_time": "2024-07-23T02:15:42.102204Z",
     "start_time": "2024-07-23T02:15:42.094190Z"
    }
   },
   "source": [
    "# Your code here\n",
    "def concatenate_strings(s1, s2):\n",
    "    a = s1+s2\n",
    "    return a\n",
    "\n",
    "print(concatenate_strings(\"Hello, \", \"World!\"))\n",
    "\n",
    "# Test Function\n",
    "def test_q8():\n",
    "    assert concatenate_strings(\"Hello, \", \"World!\") == \"Hello, World!\", \"The strings should be correctly concatenated\"\n",
    "    print(\"Question 8 is correct!\")\n",
    "\n",
    "test_q8()"
   ],
   "outputs": [
    {
     "name": "stdout",
     "output_type": "stream",
     "text": [
      "Hello, World!\n",
      "Question 8 is correct!\n"
     ]
    }
   ],
   "execution_count": 37
  },
  {
   "cell_type": "markdown",
   "metadata": {},
   "source": [
    "# Week 2: Control Flow"
   ]
  },
  {
   "cell_type": "markdown",
   "metadata": {},
   "source": [
    "### Question 9: If statements\n",
    "\n",
    "Write a program that checks if a number is positive, negative, or zero."
   ]
  },
  {
   "cell_type": "code",
   "metadata": {
    "ExecuteTime": {
     "end_time": "2024-07-23T02:23:39.236201Z",
     "start_time": "2024-07-23T02:23:39.209316Z"
    }
   },
   "source": [
    "# Your code here\n",
    "def check_number(n):\n",
    "    if n > 0:\n",
    "        return \"Positive\"\n",
    "    elif n < 0:\n",
    "        return \"Negative\"\n",
    "    else:\n",
    "        return \"Zero\"\n",
    "\n",
    "print(check_number(5))\n",
    "print(check_number(-3))\n",
    "print(check_number(0))\n",
    "\n",
    "# Test Function\n",
    "def test_q9():\n",
    "    assert check_number(5) == \"Positive\", \"The number should be correctly identified as positive\"\n",
    "    assert check_number(-3) == \"Negative\", \"The number should be correctly identified as negative\"\n",
    "    assert check_number(0) == \"Zero\", \"The number should be correctly identified as zero\"\n",
    "    print(\"Question 9 is correct!\")\n",
    "\n",
    "test_q9()"
   ],
   "outputs": [
    {
     "name": "stdout",
     "output_type": "stream",
     "text": [
      "Positive\n",
      "Negative\n",
      "Zero\n",
      "Question 9 is correct!\n"
     ]
    }
   ],
   "execution_count": 40
  },
  {
   "cell_type": "markdown",
   "metadata": {},
   "source": [
    "### Question 10: Logical operators\n",
    "\n",
    "Write a program that checks if a number is within a specific range."
   ]
  },
  {
   "cell_type": "code",
   "metadata": {
    "ExecuteTime": {
     "end_time": "2024-07-23T02:28:47.394726Z",
     "start_time": "2024-07-23T02:28:47.385377Z"
    }
   },
   "source": [
    "# Your code here\n",
    "def in_range(n, start, end):\n",
    "    if n <= end:\n",
    "        if n >= start:\n",
    "            return True\n",
    "    else:\n",
    "        return False\n",
    "\n",
    "print(in_range(5, 1, 10))\n",
    "print(in_range(15, 1, 10))\n",
    "\n",
    "# Test Function\n",
    "def test_q10():\n",
    "    assert in_range(5, 1, 10) == True, \"The number should be within the range\"\n",
    "    assert in_range(15, 1, 10) == False, \"The number should be outside the range\"\n",
    "    print(\"Question 10 is correct!\")\n",
    "\n",
    "test_q10()"
   ],
   "outputs": [
    {
     "name": "stdout",
     "output_type": "stream",
     "text": [
      "True\n",
      "False\n",
      "Question 10 is correct!\n"
     ]
    }
   ],
   "execution_count": 43
  },
  {
   "cell_type": "markdown",
   "metadata": {},
   "source": [
    "### Question 11: For loop\n",
    "\n",
    "Write a for loop that prints numbers from 1 to 10."
   ]
  },
  {
   "cell_type": "code",
   "metadata": {
    "ExecuteTime": {
     "end_time": "2024-07-26T01:28:59.414201Z",
     "start_time": "2024-07-26T01:28:59.406644Z"
    }
   },
   "source": [
    "# Your code here\n",
    "def print_numbers():\n",
    "    list = [1, 2, 3, 4, 5, 6, 7, 8, 9, 10]\n",
    "    \n",
    "    for i in list:\n",
    "        return list\n",
    "print(print_numbers())\n",
    "\n",
    "# Test Function\n",
    "def test_q11():\n",
    "    assert print_numbers() == [1, 2, 3, 4, 5, 6, 7, 8, 9, 10], \"The numbers should be correctly printed\"\n",
    "    print(\"Question 11 is correct!\")\n",
    "\n",
    "test_q11()"
   ],
   "outputs": [
    {
     "name": "stdout",
     "output_type": "stream",
     "text": [
      "[1, 2, 3, 4, 5, 6, 7, 8, 9, 10]\n",
      "Question 11 is correct!\n"
     ]
    }
   ],
   "execution_count": 21
  },
  {
   "cell_type": "markdown",
   "metadata": {},
   "source": [
    "### Question 12: While loop\n",
    "\n",
    "Write a while loop that prints \"Hello\" 5 times."
   ]
  },
  {
   "cell_type": "code",
   "metadata": {
    "ExecuteTime": {
     "end_time": "2024-07-26T01:27:18.575469Z",
     "start_time": "2024-07-26T01:27:18.566949Z"
    }
   },
   "source": [
    "# Your code here\n",
    "def print_hello():\n",
    "    return 5*[\"Hello\"]\n",
    "        \n",
    "\n",
    "print(print_hello())\n",
    "\n",
    "# Test Function\n",
    "def test_q12():\n",
    "    assert print_hello() == [\"Hello\", \"Hello\", \"Hello\", \"Hello\", \"Hello\"], \"The word 'Hello' should be printed 5 times\"\n",
    "    print(\"Question 12 is correct!\")\n",
    "\n",
    "test_q12()"
   ],
   "outputs": [
    {
     "name": "stdout",
     "output_type": "stream",
     "text": [
      "['Hello', 'Hello', 'Hello', 'Hello', 'Hello']\n",
      "Question 12 is correct!\n"
     ]
    }
   ],
   "execution_count": 19
  },
  {
   "cell_type": "markdown",
   "metadata": {},
   "source": [
    "### Question 13: Nested loops\n",
    "\n",
    "Write a program that prints a multiplication table."
   ]
  },
  {
   "cell_type": "code",
   "metadata": {
    "ExecuteTime": {
     "end_time": "2024-07-26T01:51:02.229972Z",
     "start_time": "2024-07-26T01:51:02.217758Z"
    }
   },
   "source": [
    "# Your code here\n",
    "def multiplication_table():\n",
    "    multiply = [1, 2, 3, 4, 5, 6, 7, 8, 9, 10]\n",
    "    numbers = [1, 2, 3, 4, 5, 6, 7, 8, 9, 10]\n",
    "    \n",
    "    output = []\n",
    "    for x in numbers:\n",
    "        line = []\n",
    "        for y in multiply:\n",
    "            line.append(x * y)\n",
    "        output.append(line)\n",
    "        \n",
    "    return output\n",
    "            \n",
    "\n",
    "print(multiplication_table())\n",
    "\n",
    "# Test Function\n",
    "def test_q13():\n",
    "    assert multiplication_table()[0] == [1, 2, 3, 4, 5, 6, 7, 8, 9, 10], \"The first row should be correct\"\n",
    "    assert multiplication_table()[9] == [10, 20, 30, 40, 50, 60, 70, 80, 90, 100], \"The last row should be correct\"\n",
    "    print(\"Question 13 is correct!\")\n",
    "\n",
    "test_q13()"
   ],
   "outputs": [
    {
     "name": "stdout",
     "output_type": "stream",
     "text": [
      "[[1, 2, 3, 4, 5, 6, 7, 8, 9, 10], [2, 4, 6, 8, 10, 12, 14, 16, 18, 20], [3, 6, 9, 12, 15, 18, 21, 24, 27, 30], [4, 8, 12, 16, 20, 24, 28, 32, 36, 40], [5, 10, 15, 20, 25, 30, 35, 40, 45, 50], [6, 12, 18, 24, 30, 36, 42, 48, 54, 60], [7, 14, 21, 28, 35, 42, 49, 56, 63, 70], [8, 16, 24, 32, 40, 48, 56, 64, 72, 80], [9, 18, 27, 36, 45, 54, 63, 72, 81, 90], [10, 20, 30, 40, 50, 60, 70, 80, 90, 100]]\n",
      "Question 13 is correct!\n"
     ]
    }
   ],
   "execution_count": 60
  },
  {
   "cell_type": "markdown",
   "metadata": {},
   "source": [
    "### Question 14: Nested conditionals\n",
    "\n",
    "Write a program that prints prime numbers between 1 and 100."
   ]
  },
  {
   "cell_type": "code",
   "metadata": {
    "ExecuteTime": {
     "end_time": "2024-07-26T08:10:44.030994Z",
     "start_time": "2024-07-26T08:10:44.025257Z"
    }
   },
   "source": [
    "# Your code here\n",
    "def prime_numbers():\n",
    "    primes = []\n",
    "    for num in range(2, 101):  # Start from 2, as 1 is not a prime number\n",
    "        is_prime = True\n",
    "        for i in range(2, int(num**0.5)+1): #check if the number is divisible by range from 2, to sqr root and +1 as it start with 0\n",
    "            if num % i == 0: # if the number have no remainder\n",
    "                is_prime = False # is prime = false as prime number can only be divided by themselves or 1\n",
    "                break # break the loop\n",
    "        if is_prime: #if is_prime = true\n",
    "            primes.append(num) # update the primes list\n",
    "    return primes # return primes\n",
    "\n",
    "print(prime_numbers())\n",
    "\n",
    "# Test Function\n",
    "def test_q14():\n",
    "    assert prime_numbers() == [2, 3, 5, 7, 11, 13, 17, 19, 23, 29, 31, 37, 41, 43, 47, 53, 59, 61, 67, 71, 73, 79, 83, 89, 97], \"The prime numbers should be correctly identified\"\n",
    "    print(\"Question 14 is correct!\")\n",
    "\n",
    "test_q14()"
   ],
   "outputs": [
    {
     "name": "stdout",
     "output_type": "stream",
     "text": [
      "[2, 3, 5, 7, 11, 13, 17, 19, 23, 29, 31, 37, 41, 43, 47, 53, 59, 61, 67, 71, 73, 79, 83, 89, 97]\n",
      "Question 14 is correct!\n"
     ]
    }
   ],
   "execution_count": 12
  },
  {
   "cell_type": "markdown",
   "metadata": {},
   "source": [
    "# Week 3: Functions and Lists"
   ]
  },
  {
   "cell_type": "markdown",
   "metadata": {},
   "source": [
    "### Question 15: Define a function\n",
    "\n",
    "Write a function that takes two numbers and returns their sum."
   ]
  },
  {
   "cell_type": "code",
   "metadata": {
    "ExecuteTime": {
     "end_time": "2024-07-26T08:11:56.796374Z",
     "start_time": "2024-07-26T08:11:56.778899Z"
    }
   },
   "source": [
    "# Your code here\n",
    "def add(a, b):\n",
    "    sum = a+b\n",
    "    return sum\n",
    "\n",
    "print(add(3, 4))\n",
    "\n",
    "# Test Function\n",
    "def test_q15():\n",
    "    assert add(3, 4) == 7, \"The function should correctly add two numbers\"\n",
    "    print(\"Question 15 is correct!\")\n",
    "\n",
    "test_q15()"
   ],
   "outputs": [
    {
     "name": "stdout",
     "output_type": "stream",
     "text": [
      "7\n",
      "Question 15 is correct!\n"
     ]
    }
   ],
   "execution_count": 17
  },
  {
   "cell_type": "markdown",
   "metadata": {},
   "source": [
    "### Question 16: Call a function\n",
    "\n",
    "Write a function that checks if a number is even or odd and call it."
   ]
  },
  {
   "cell_type": "code",
   "metadata": {
    "ExecuteTime": {
     "end_time": "2024-07-26T08:13:42.538985Z",
     "start_time": "2024-07-26T08:13:42.532710Z"
    }
   },
   "source": [
    "# Your code here\n",
    "def is_even(n):\n",
    "    even = True\n",
    "    if n % 2 == 0:\n",
    "        even = True\n",
    "    else:\n",
    "        even = False\n",
    "    return even\n",
    "        \n",
    "\n",
    "print(is_even(4))\n",
    "print(is_even(5))\n",
    "\n",
    "# Test Function\n",
    "def test_q16():\n",
    "    assert is_even(4) == True, \"The function should return True for even numbers\"\n",
    "    assert is_even(5) == False, \"The function should return False for odd numbers\"\n",
    "    print(\"Question 16 is correct!\")\n",
    "\n",
    "test_q16()"
   ],
   "outputs": [
    {
     "name": "stdout",
     "output_type": "stream",
     "text": [
      "True\n",
      "False\n",
      "Question 16 is correct!\n"
     ]
    }
   ],
   "execution_count": 18
  },
  {
   "cell_type": "markdown",
   "metadata": {},
   "source": [
    "### Question 17: Create a list\n",
    "\n",
    "Write a program that creates a list of favorite movies and prints it."
   ]
  },
  {
   "cell_type": "code",
   "execution_count": null,
   "metadata": {},
   "outputs": [],
   "source": [
    "# Your code here\n",
    "def favorite_movies():\n",
    "    pass\n",
    "\n",
    "print(favorite_movies())\n",
    "\n",
    "# Test Function\n",
    "def test_q17():\n",
    "    assert favorite_movies() == [\"Inception\", \"The Matrix\", \"Interstellar\"], \"The list of favorite movies should be correctly created\"\n",
    "    print(\"Question 17 is correct!\")\n",
    "\n",
    "test_q17()"
   ]
  },
  {
   "cell_type": "markdown",
   "metadata": {},
   "source": [
    "### Question 18: Use list methods\n",
    "\n",
    "Write a program that adds a new movie to the list and prints the updated list."
   ]
  },
  {
   "cell_type": "code",
   "execution_count": null,
   "metadata": {},
   "outputs": [],
   "source": [
    "# Your code here\n",
    "def add_movie():\n",
    "    pass\n",
    "\n",
    "print(add_movie())\n",
    "\n",
    "# Test Function\n",
    "def test_q18():\n",
    "    assert add_movie() == [\"Inception\", \"The Matrix\", \"Interstellar\", \"The Dark Knight\"], \"The new movie should be added to the list\"\n",
    "    print(\"Question 18 is correct!\")\n",
    "\n",
    "test_q18()"
   ]
  },
  {
   "cell_type": "markdown",
   "metadata": {},
   "source": [
    "### Question 19: Iterate over a list\n",
    "\n",
    "Write a program that prints each item in a list of numbers."
   ]
  },
  {
   "cell_type": "code",
   "execution_count": null,
   "metadata": {},
   "outputs": [],
   "source": [
    "# Your code here\n",
    "def print_list(numbers):\n",
    "    pass\n",
    "\n",
    "print(print_list([1, 2, 3, 4, 5]))\n",
    "\n",
    "# Test Function\n",
    "def test_q19():\n",
    "    assert print_list([1, 2, 3, 4, 5]) == [1, 2, 3, 4, 5], \"The numbers should be correctly printed\"\n",
    "    print(\"Question 19 is correct!\")\n",
    "\n",
    "test_q19()"
   ]
  },
  {
   "cell_type": "markdown",
   "metadata": {},
   "source": [
    "### Question 20: List slicing\n",
    "\n",
    "Write a program that slices a list and prints the first three items."
   ]
  },
  {
   "cell_type": "code",
   "execution_count": null,
   "metadata": {},
   "outputs": [],
   "source": [
    "# Your code here\n",
    "def slice_list(lst):\n",
    "    pass\n",
    "\n",
    "print(slice_list([1, 2, 3, 4, 5]))\n",
    "\n",
    "# Test Function\n",
    "def test_q20():\n",
    "    assert slice_list([1, 2, 3, 4, 5]) == [1, 2, 3], \"The first three items should be correctly sliced\"\n",
    "    print(\"Question 20 is correct!\")\n",
    "\n",
    "test_q20()"
   ]
  },
  {
   "cell_type": "markdown",
   "metadata": {},
   "source": [
    "### Question 21: Nested loops with lists\n",
    "\n",
    "Write a program that prints a 2D list in a tabular format."
   ]
  },
  {
   "cell_type": "code",
   "execution_count": null,
   "metadata": {},
   "outputs": [],
   "source": [
    "# Your code here\n",
    "def print_2d_list(lst):\n",
    "    pass\n",
    "\n",
    "print(print_2d_list([[1, 2, 3], [4, 5, 6], [7, 8, 9]]))\n",
    "\n",
    "# Test Function\n",
    "def test_q21():\n",
    "    expected_output = \"1\\t2\\t3\\t\\n4\\t5\\t6\\t\\n7\\t8\\t9\\t\\n\"\n",
    "    assert print_2d_list([[1, 2, 3], [4, 5, 6], [7, 8, 9]]) == expected_output, \"The 2D list should be printed in a tabular format\"\n",
    "    print(\"Question 21 is correct!\")\n",
    "\n",
    "test_q21()"
   ]
  },
  {
   "cell_type": "markdown",
   "metadata": {},
   "source": [
    "### Question 22: List comprehension\n",
    "\n",
    "Write a program that uses list comprehension to create a list of squares of numbers from 1 to 10."
   ]
  },
  {
   "cell_type": "code",
   "execution_count": null,
   "metadata": {},
   "outputs": [],
   "source": [
    "# Your code here\n",
    "def squares_list():\n",
    "    pass\n",
    "\n",
    "print(squares_list())\n",
    "\n",
    "# Test Function\n",
    "def test_q22():\n",
    "    assert squares_list() == [1, 4, 9, 16, 25, 36, 49, 64, 81, 100], \"The list of squares should be correctly created\"\n",
    "    print(\"Question 22 is correct!\")\n",
    "\n",
    "test_q22()"
   ]
  },
  {
   "cell_type": "markdown",
   "metadata": {},
   "source": [
    "### Question 23: List methods\n",
    "\n",
    "Write a program that sorts a list of numbers in ascending order."
   ]
  },
  {
   "cell_type": "code",
   "execution_count": null,
   "metadata": {},
   "outputs": [],
   "source": [
    "# Your code here\n",
    "def sort_list(lst):\n",
    "    pass\n",
    "\n",
    "print(sort_list([3, 1, 4, 1, 5, 9]))\n",
    "\n",
    "# Test Function\n",
    "def test_q23():\n",
    "    assert sort_list([3, 1, 4, 1, 5, 9]) == [1, 1, 3, 4, 5, 9], \"The list should be correctly sorted\"\n",
    "    print(\"Question 23 is correct!\")\n",
    "\n",
    "test_q23()"
   ]
  },
  {
   "cell_type": "markdown",
   "metadata": {},
   "source": [
    "# Week 4: File I/O"
   ]
  },
  {
   "cell_type": "markdown",
   "metadata": {},
   "source": [
    "### Question 24: Read from a file\n",
    "\n",
    "Write a program that reads the contents of a file and prints them."
   ]
  },
  {
   "cell_type": "code",
   "execution_count": null,
   "metadata": {},
   "outputs": [],
   "source": [
    "# Your code here\n",
    "def read_file(filename):\n",
    "    pass\n",
    "\n",
    "# Create a sample file for testing\n",
    "with open(\"sample.txt\", \"w\") as file:\n",
    "    file.write(\"Hello, World!\")\n",
    "\n",
    "print(read_file(\"sample.txt\"))\n",
    "\n",
    "# Test Function\n",
    "def test_q24():\n",
    "    assert read_file(\"sample.txt\") == \"Hello, World!\", \"The file content should be correctly read\"\n",
    "    print(\"Question 24 is correct!\")\n",
    "\n",
    "test_q24()"
   ]
  },
  {
   "cell_type": "markdown",
   "metadata": {},
   "source": [
    "### Question 25: Write to a file\n",
    "\n",
    "Write a program that writes user input to a file."
   ]
  },
  {
   "cell_type": "code",
   "execution_count": null,
   "metadata": {},
   "outputs": [],
   "source": [
    "# Your code here\n",
    "def write_file(filename, content):\n",
    "    pass\n",
    "\n",
    "print(write_file(\"output.txt\", \"This is a test.\"))\n",
    "\n",
    "# Test Function\n",
    "def test_q25():\n",
    "    assert write_file(\"output.txt\", \"This is a test.\") == \"Write successful\", \"The content should be correctly written to the file\"\n",
    "    with open(\"output.txt\", \"r\") as file:\n",
    "        assert file.read() == \"This is a test.\", \"The file content should match the input\"\n",
    "    print(\"Question 25 is correct!\")\n",
    "\n",
    "test_q25()"
   ]
  },
  {
   "cell_type": "markdown",
   "metadata": {},
   "source": [
    "### Question 26: Append to a file\n",
    "\n",
    "Write a program that appends a new line of text to a file and reads the updated file."
   ]
  },
  {
   "cell_type": "code",
   "execution_count": null,
   "metadata": {},
   "outputs": [],
   "source": [
    "# Your code here\n",
    "def append_file(filename, content):\n",
    "    pass\n",
    "\n",
    "print(append_file(\"output.txt\", \"Appending this line.\"))\n",
    "\n",
    "# Test Function\n",
    "def test_q26():\n",
    "    updated_content = append_file(\"output.txt\", \"Appending this line.\")\n",
    "    assert \"Appending this line.\" in updated_content, \"The new line should be appended to the file\"\n",
    "    print(\"Question 26 is correct!\")\n",
    "\n",
    "test_q26()"
   ]
  },
  {
   "cell_type": "markdown",
   "metadata": {},
   "source": [
    "### Question 27: Read file into a list\n",
    "\n",
    "Write a program that reads the lines of a file into a list."
   ]
  },
  {
   "cell_type": "code",
   "execution_count": null,
   "metadata": {},
   "outputs": [],
   "source": [
    "# Your code here\n",
    "def read_file_to_list(filename):\n",
    "    pass\n",
    "\n",
    "print(read_file_to_list(\"output.txt\"))\n",
    "\n",
    "# Test Function\n",
    "def test_q27():\n",
    "    assert read_file_to_list(\"output.txt\") == [\"This is a test.\\n\", \"Appending this line.\\n\", \"Appending this line.\\n\"], \"The lines should be correctly read into a list\"\n",
    "    print(\"Question 27 is correct!\")\n",
    "\n",
    "test_q27()"
   ]
  },
  {
   "cell_type": "markdown",
   "metadata": {},
   "source": [
    "### Question 28: Write list to a file\n",
    "\n",
    "Write a program that writes the elements of a list to a file."
   ]
  },
  {
   "cell_type": "code",
   "execution_count": null,
   "metadata": {},
   "outputs": [],
   "source": [
    "# Your code here\n",
    "def write_list_to_file(filename, lst):\n",
    "    pass\n",
    "\n",
    "print(write_list_to_file(\"list_output.txt\", [\"Line 1\", \"Line 2\", \"Line 3\"]))\n",
    "\n",
    "# Test Function\n",
    "def test_q28():\n",
    "    assert write_list_to_file(\"list_output.txt\", [\"Line 1\", \"Line 2\", \"Line 3\"]) == \"Write successful\", \"The list should be correctly written to the file\"\n",
    "    with open(\"list_output.txt\", \"r\") as file:\n",
    "        assert file.read() == \"Line 1\\nLine 2\\nLine 3\\n\", \"The file content should match the list items\"\n",
    "    print(\"Question 28 is correct!\")\n",
    "\n",
    "test_q28()"
   ]
  },
  {
   "cell_type": "markdown",
   "metadata": {},
   "source": [
    "### Question 29: File I/O with exception handling\n",
    "\n",
    "Write a program that handles file not found errors when reading a file."
   ]
  },
  {
   "cell_type": "code",
   "execution_count": null,
   "metadata": {},
   "outputs": [],
   "source": [
    "# Your code here\n",
    "def read_file_with_exception_handling(filename):\n",
    "    pass\n",
    "\n",
    "print(read_file_with_exception_handling(\"non_existent_file.txt\"))\n",
    "\n",
    "# Test Function\n",
    "def test_q29():\n",
    "    assert read_file_with_exception_handling(\"non_existent_file.txt\") == \"File not found\", \"The function should handle file not found errors\"\n",
    "    print(\"Question 29 is correct!\")\n",
    "\n",
    "test_q29()"
   ]
  },
  {
   "cell_type": "markdown",
   "metadata": {},
   "source": [
    "### Question 30: File I/O with dictionaries\n",
    "\n",
    "Write a program that reads student names and grades from a file into a dictionary."
   ]
  },
  {
   "cell_type": "code",
   "execution_count": null,
   "metadata": {},
   "outputs": [],
   "source": [
    "# Your code here\n",
    "def read_grades_to_dict(filename):\n",
    "    pass\n",
    "\n",
    "# Create a sample file for testing\n",
    "with open(\"grades.txt\", \"w\") as file:\n",
    "    file.write(\"Alice,90\\nBob,85\\nCharlie,95\")\n",
    "\n",
    "print(read_grades_to_dict(\"grades.txt\"))\n",
    "\n",
    "# Test Function\n",
    "def test_q30():\n",
    "    assert read_grades_to_dict(\"grades.txt\") == {\"Alice\": 90, \"Bob\": 85, \"Charlie\": 95}, \"The student names and grades should be correctly read into a dictionary\"\n",
    "    print(\"Question 30 is correct!\")\n",
    "\n",
    "test_q30()"
   ]
  }
 ],
 "metadata": {
  "kernelspec": {
   "display_name": "Python 3",
   "language": "python",
   "name": "python3"
  },
  "language_info": {
   "codemirror_mode": {
    "name": "ipython",
    "version": 3
   },
   "file_extension": ".py",
   "mimetype": "text/x-python",
   "name": "python",
   "nbconvert_exporter": "python",
   "pygments_lexer": "ipython3",
   "version": "3.8.5"
  }
 },
 "nbformat": 4,
 "nbformat_minor": 4
}
